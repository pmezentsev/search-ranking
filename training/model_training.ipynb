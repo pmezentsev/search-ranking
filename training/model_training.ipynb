{
 "cells": [
  {
   "cell_type": "code",
   "execution_count": null,
   "metadata": {
    "collapsed": true
   },
   "outputs": [],
   "source": [
    "#TODO: write explanation, what's going on here\n",
    "  # to be more precise:\n",
    "  #  we are training the model for the search\n",
    "  #  our embeddings\n",
    "  #  our datasets\n",
    "  #  our model that we would like to train\n",
    "  #  it will be great if the code could be able to be executed on colab - think about it"
   ]
  },
  {
   "cell_type": "code",
   "execution_count": 16,
   "metadata": {
    "ExecuteTime": {
     "end_time": "2022-09-10T18:50:14.287852Z",
     "start_time": "2022-09-10T18:49:58.600537Z"
    }
   },
   "outputs": [
    {
     "name": "stdout",
     "output_type": "stream",
     "text": [
      "--2022-09-10 14:49:58--  https://dl.fbaipublicfiles.com/glue/data/QQP-clean.zip\n",
      "Resolving dl.fbaipublicfiles.com (dl.fbaipublicfiles.com)... 104.22.74.142, 104.22.75.142, 172.67.9.4\n",
      "Connecting to dl.fbaipublicfiles.com (dl.fbaipublicfiles.com)|104.22.74.142|:443... connected.\n",
      "HTTP request sent, awaiting response... 200 OK\n",
      "Length: 41696084 (40M) [application/zip]\n",
      "Saving to: ‘resources/quora_questions.zip’\n",
      "\n",
      "resources/quora_que 100%[===================>]  39.76M  2.84MB/s    in 15s     \n",
      "\n",
      "2022-09-10 14:50:13 (2.73 MB/s) - ‘resources/quora_questions.zip’ saved [41696084/41696084]\n",
      "\n",
      "x QQP/\n",
      "x QQP/train.tsv\n",
      "x QQP/dev.tsv\n",
      "x QQP/test.tsv\n"
     ]
    }
   ],
   "source": [
    "! wget -O quora_questions.zip https://dl.fbaipublicfiles.com/glue/data/QQP-clean.zip && \\\n",
    "  tar xzvf quora_questions.zip && \\\n",
    "  rm quora_questions.zip && \\\n",
    "  mkdir -p resources && \\\n",
    "  mv QQP/ quora_questions"
   ]
  },
  {
   "cell_type": "code",
   "execution_count": 9,
   "metadata": {
    "ExecuteTime": {
     "end_time": "2022-09-10T18:45:59.893127Z",
     "start_time": "2022-09-10T18:45:59.766517Z"
    }
   },
   "outputs": [],
   "source": [
    "! rm -rf resources"
   ]
  },
  {
   "cell_type": "code",
   "execution_count": 5,
   "metadata": {
    "ExecuteTime": {
     "end_time": "2022-09-10T18:41:59.557663Z",
     "start_time": "2022-09-10T18:41:58.991874Z"
    }
   },
   "outputs": [
    {
     "name": "stdout",
     "output_type": "stream",
     "text": [
      "x QQP/\n",
      "x QQP/train.tsv\n",
      "x QQP/dev.tsv\n",
      "x QQP/test.tsv\n"
     ]
    }
   ],
   "source": [
    "! tar xzvf QQP-clean.zip"
   ]
  },
  {
   "cell_type": "code",
   "execution_count": 6,
   "metadata": {
    "ExecuteTime": {
     "end_time": "2022-09-10T18:42:10.653531Z",
     "start_time": "2022-09-10T18:42:10.526798Z"
    }
   },
   "outputs": [
    {
     "name": "stdout",
     "output_type": "stream",
     "text": [
      "dev.tsv   test.tsv  train.tsv\r\n"
     ]
    }
   ],
   "source": [
    "! ls QQP"
   ]
  },
  {
   "cell_type": "code",
   "execution_count": 23,
   "metadata": {
    "ExecuteTime": {
     "end_time": "2022-09-10T19:01:21.440618Z",
     "start_time": "2022-09-10T18:56:53.700315Z"
    }
   },
   "outputs": [
    {
     "name": "stdout",
     "output_type": "stream",
     "text": [
      "--2022-09-10 14:56:53--  http://nlp.stanford.edu/data/glove.6B.zip\n",
      "Resolving nlp.stanford.edu (nlp.stanford.edu)... 171.64.67.140\n",
      "Connecting to nlp.stanford.edu (nlp.stanford.edu)|171.64.67.140|:80... connected.\n",
      "HTTP request sent, awaiting response... 302 Found\n",
      "Location: https://nlp.stanford.edu/data/glove.6B.zip [following]\n",
      "--2022-09-10 14:56:53--  https://nlp.stanford.edu/data/glove.6B.zip\n",
      "Connecting to nlp.stanford.edu (nlp.stanford.edu)|171.64.67.140|:443... connected.\n",
      "HTTP request sent, awaiting response... 301 Moved Permanently\n",
      "Location: https://downloads.cs.stanford.edu/nlp/data/glove.6B.zip [following]\n",
      "--2022-09-10 14:56:54--  https://downloads.cs.stanford.edu/nlp/data/glove.6B.zip\n",
      "Resolving downloads.cs.stanford.edu (downloads.cs.stanford.edu)... 171.64.64.22\n",
      "Connecting to downloads.cs.stanford.edu (downloads.cs.stanford.edu)|171.64.64.22|:443... connected.\n",
      "HTTP request sent, awaiting response... 200 OK\n",
      "Length: 862182613 (822M) [application/zip]\n",
      "Saving to: ‘glove.6B.zip.1’\n",
      "\n",
      "glove.6B.zip.1      100%[===================>] 822.24M  2.83MB/s    in 4m 27s  \n",
      "\n",
      "2022-09-10 15:01:21 (3.08 MB/s) - ‘glove.6B.zip.1’ saved [862182613/862182613]\n",
      "\n"
     ]
    }
   ],
   "source": [
    "! wget http://nlp.stanford.edu/data/glove.6B.zip"
   ]
  },
  {
   "cell_type": "code",
   "execution_count": null,
   "metadata": {},
   "outputs": [],
   "source": [
    "! "
   ]
  },
  {
   "cell_type": "code",
   "execution_count": null,
   "metadata": {},
   "outputs": [],
   "source": [
    "! tar xzvf glove.6B.zip -C "
   ]
  },
  {
   "cell_type": "code",
   "execution_count": null,
   "metadata": {},
   "outputs": [],
   "source": [
    "# $ tar -zxvf config.tar.gz etc/default/sysstat\n",
    "# $ tar -xvf {tarball.tar} {path/to/file}\n",
    "# glove.6B.50d.txt\n",
    "\n",
    "! tar http://nlp.stanford.edu/data/glove.6B.zip\n",
    "\n",
    "tar -zxvf config.tar.gz etc/default/sysstat"
   ]
  },
  {
   "cell_type": "code",
   "execution_count": null,
   "metadata": {
    "pycharm": {
     "name": "#%%\n"
    }
   },
   "outputs": [],
   "source": [
    "# download the"
   ]
  }
 ],
 "metadata": {
  "kernelspec": {
   "display_name": "Python 3",
   "language": "python",
   "name": "python3"
  },
  "language_info": {
   "codemirror_mode": {
    "name": "ipython",
    "version": 3
   },
   "file_extension": ".py",
   "mimetype": "text/x-python",
   "name": "python",
   "nbconvert_exporter": "python",
   "pygments_lexer": "ipython3",
   "version": "3.7.10"
  },
  "toc": {
   "base_numbering": 1,
   "nav_menu": {},
   "number_sections": false,
   "sideBar": true,
   "skip_h1_title": false,
   "title_cell": "Table of Contents",
   "title_sidebar": "Contents",
   "toc_cell": false,
   "toc_position": {},
   "toc_section_display": true,
   "toc_window_display": false
  },
  "varInspector": {
   "cols": {
    "lenName": 16,
    "lenType": 16,
    "lenVar": 40
   },
   "kernels_config": {
    "python": {
     "delete_cmd_postfix": "",
     "delete_cmd_prefix": "del ",
     "library": "var_list.py",
     "varRefreshCmd": "print(var_dic_list())"
    },
    "r": {
     "delete_cmd_postfix": ") ",
     "delete_cmd_prefix": "rm(",
     "library": "var_list.r",
     "varRefreshCmd": "cat(var_dic_list()) "
    }
   },
   "types_to_exclude": [
    "module",
    "function",
    "builtin_function_or_method",
    "instance",
    "_Feature"
   ],
   "window_display": false
  }
 },
 "nbformat": 4,
 "nbformat_minor": 1
}
